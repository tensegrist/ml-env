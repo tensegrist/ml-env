{
 "cells": [
  {
   "cell_type": "code",
   "execution_count": 33,
   "id": "64e2e4e7",
   "metadata": {},
   "outputs": [],
   "source": [
    "import os\n",
    "from pathlib import Path\n",
    "\n",
    "path = Path('titanic')\n",
    "if not path.exists():\n",
    "    import zipfile,kaggle\n",
    "    kaggle.api.competition_download_cli(str(path))\n",
    "    zipfile.ZipFile(f'{path}.zip').extractall(path)"
   ]
  },
  {
   "cell_type": "code",
   "execution_count": 34,
   "id": "1fd0c4fe",
   "metadata": {},
   "outputs": [],
   "source": [
    "import torch, numpy as np, pandas as pd\n",
    "np.set_printoptions(linewidth=140)\n",
    "torch.set_printoptions(linewidth=140, sci_mode=False, edgeitems=7)\n",
    "pd.set_option('display.width', 140)"
   ]
  },
  {
   "cell_type": "code",
   "execution_count": 35,
   "id": "234d2224",
   "metadata": {},
   "outputs": [
    {
     "data": {
      "text/html": [
       "<div>\n",
       "<style scoped>\n",
       "    .dataframe tbody tr th:only-of-type {\n",
       "        vertical-align: middle;\n",
       "    }\n",
       "\n",
       "    .dataframe tbody tr th {\n",
       "        vertical-align: top;\n",
       "    }\n",
       "\n",
       "    .dataframe thead th {\n",
       "        text-align: right;\n",
       "    }\n",
       "</style>\n",
       "<table border=\"1\" class=\"dataframe\">\n",
       "  <thead>\n",
       "    <tr style=\"text-align: right;\">\n",
       "      <th></th>\n",
       "      <th>PassengerId</th>\n",
       "      <th>Survived</th>\n",
       "      <th>Pclass</th>\n",
       "      <th>Name</th>\n",
       "      <th>Sex</th>\n",
       "      <th>Age</th>\n",
       "      <th>SibSp</th>\n",
       "      <th>Parch</th>\n",
       "      <th>Ticket</th>\n",
       "      <th>Fare</th>\n",
       "      <th>Cabin</th>\n",
       "      <th>Embarked</th>\n",
       "    </tr>\n",
       "  </thead>\n",
       "  <tbody>\n",
       "    <tr>\n",
       "      <th>0</th>\n",
       "      <td>1</td>\n",
       "      <td>0</td>\n",
       "      <td>3</td>\n",
       "      <td>Braund, Mr. Owen Harris</td>\n",
       "      <td>male</td>\n",
       "      <td>22.0</td>\n",
       "      <td>1</td>\n",
       "      <td>0</td>\n",
       "      <td>A/5 21171</td>\n",
       "      <td>7.2500</td>\n",
       "      <td>NaN</td>\n",
       "      <td>S</td>\n",
       "    </tr>\n",
       "    <tr>\n",
       "      <th>1</th>\n",
       "      <td>2</td>\n",
       "      <td>1</td>\n",
       "      <td>1</td>\n",
       "      <td>Cumings, Mrs. John Bradley (Florence Briggs Th...</td>\n",
       "      <td>female</td>\n",
       "      <td>38.0</td>\n",
       "      <td>1</td>\n",
       "      <td>0</td>\n",
       "      <td>PC 17599</td>\n",
       "      <td>71.2833</td>\n",
       "      <td>C85</td>\n",
       "      <td>C</td>\n",
       "    </tr>\n",
       "  </tbody>\n",
       "</table>\n",
       "</div>"
      ],
      "text/plain": [
       "   PassengerId  Survived  Pclass                                               Name     Sex   Age  SibSp  Parch     Ticket     Fare Cabin  \\\n",
       "0            1         0       3                            Braund, Mr. Owen Harris    male  22.0      1      0  A/5 21171   7.2500   NaN   \n",
       "1            2         1       1  Cumings, Mrs. John Bradley (Florence Briggs Th...  female  38.0      1      0   PC 17599  71.2833   C85   \n",
       "\n",
       "  Embarked  \n",
       "0        S  \n",
       "1        C  "
      ]
     },
     "execution_count": 35,
     "metadata": {},
     "output_type": "execute_result"
    }
   ],
   "source": [
    "df = pd.read_csv(path/'train.csv')\n",
    "df.head(2)"
   ]
  },
  {
   "cell_type": "code",
   "execution_count": 36,
   "id": "5a0e7808",
   "metadata": {},
   "outputs": [
    {
     "data": {
      "text/plain": [
       "PassengerId      0\n",
       "Survived         0\n",
       "Pclass           0\n",
       "Name             0\n",
       "Sex              0\n",
       "Age            177\n",
       "SibSp            0\n",
       "Parch            0\n",
       "Ticket           0\n",
       "Fare             0\n",
       "Cabin          687\n",
       "Embarked         2\n",
       "dtype: int64"
      ]
     },
     "execution_count": 36,
     "metadata": {},
     "output_type": "execute_result"
    }
   ],
   "source": [
    "df.isna().sum()"
   ]
  },
  {
   "cell_type": "code",
   "execution_count": 37,
   "id": "954d114f",
   "metadata": {},
   "outputs": [],
   "source": [
    "modes = df.mode().iloc[0]"
   ]
  },
  {
   "cell_type": "code",
   "execution_count": 38,
   "id": "4104a9b0",
   "metadata": {},
   "outputs": [],
   "source": [
    "df.fillna(modes, inplace=True)"
   ]
  },
  {
   "cell_type": "code",
   "execution_count": 39,
   "id": "165f20b5",
   "metadata": {},
   "outputs": [
    {
     "data": {
      "text/plain": [
       "PassengerId    0\n",
       "Survived       0\n",
       "Pclass         0\n",
       "Name           0\n",
       "Sex            0\n",
       "Age            0\n",
       "SibSp          0\n",
       "Parch          0\n",
       "Ticket         0\n",
       "Fare           0\n",
       "Cabin          0\n",
       "Embarked       0\n",
       "dtype: int64"
      ]
     },
     "execution_count": 39,
     "metadata": {},
     "output_type": "execute_result"
    }
   ],
   "source": [
    "df.isna().sum()"
   ]
  },
  {
   "cell_type": "code",
   "execution_count": 40,
   "id": "ef260a8c",
   "metadata": {},
   "outputs": [
    {
     "data": {
      "text/plain": [
       "<AxesSubplot: >"
      ]
     },
     "execution_count": 40,
     "metadata": {},
     "output_type": "execute_result"
    },
    {
     "data": {
      "image/png": "[encoded data removed]",
      "text/plain": [
       "<Figure size 640x480 with 1 Axes>"
      ]
     },
     "metadata": {},
     "output_type": "display_data"
    }
   ],
   "source": [
    "df['Fare'].hist()"
   ]
  },
  {
   "cell_type": "code",
   "execution_count": 41,
   "id": "b5868917",
   "metadata": {},
   "outputs": [],
   "source": [
    "df['LogFare']=np.log(df['Fare']+1)"
   ]
  },
  {
   "cell_type": "code",
   "execution_count": 42,
   "id": "2caed3db",
   "metadata": {},
   "outputs": [
    {
     "data": {
      "text/plain": [
       "<AxesSubplot: >"
      ]
     },
     "execution_count": 42,
     "metadata": {},
     "output_type": "execute_result"
    },
    {
     "data": {
      "image/png": "[encoded data removed]",
      "text/plain": [
       "<Figure size 640x480 with 1 Axes>"
      ]
     },
     "metadata": {},
     "output_type": "display_data"
    }
   ],
   "source": [
    "df['LogFare'].hist()"
   ]
  },
  {
   "cell_type": "code",
   "execution_count": 43,
   "id": "ba681c1d",
   "metadata": {},
   "outputs": [
    {
     "data": {
      "text/html": [
       "<div>\n",
       "<style scoped>\n",
       "    .dataframe tbody tr th:only-of-type {\n",
       "        vertical-align: middle;\n",
       "    }\n",
       "\n",
       "    .dataframe tbody tr th {\n",
       "        vertical-align: top;\n",
       "    }\n",
       "\n",
       "    .dataframe thead th {\n",
       "        text-align: right;\n",
       "    }\n",
       "</style>\n",
       "<table border=\"1\" class=\"dataframe\">\n",
       "  <thead>\n",
       "    <tr style=\"text-align: right;\">\n",
       "      <th></th>\n",
       "      <th>PassengerId</th>\n",
       "      <th>Survived</th>\n",
       "      <th>Pclass</th>\n",
       "      <th>Age</th>\n",
       "      <th>SibSp</th>\n",
       "      <th>Parch</th>\n",
       "      <th>Fare</th>\n",
       "      <th>LogFare</th>\n",
       "    </tr>\n",
       "  </thead>\n",
       "  <tbody>\n",
       "    <tr>\n",
       "      <th>count</th>\n",
       "      <td>891.000000</td>\n",
       "      <td>891.000000</td>\n",
       "      <td>891.000000</td>\n",
       "      <td>891.000000</td>\n",
       "      <td>891.000000</td>\n",
       "      <td>891.000000</td>\n",
       "      <td>891.000000</td>\n",
       "      <td>891.000000</td>\n",
       "    </tr>\n",
       "    <tr>\n",
       "      <th>mean</th>\n",
       "      <td>446.000000</td>\n",
       "      <td>0.383838</td>\n",
       "      <td>2.308642</td>\n",
       "      <td>28.566970</td>\n",
       "      <td>0.523008</td>\n",
       "      <td>0.381594</td>\n",
       "      <td>32.204208</td>\n",
       "      <td>2.962246</td>\n",
       "    </tr>\n",
       "    <tr>\n",
       "      <th>std</th>\n",
       "      <td>257.353842</td>\n",
       "      <td>0.486592</td>\n",
       "      <td>0.836071</td>\n",
       "      <td>13.199572</td>\n",
       "      <td>1.102743</td>\n",
       "      <td>0.806057</td>\n",
       "      <td>49.693429</td>\n",
       "      <td>0.969048</td>\n",
       "    </tr>\n",
       "    <tr>\n",
       "      <th>min</th>\n",
       "      <td>1.000000</td>\n",
       "      <td>0.000000</td>\n",
       "      <td>1.000000</td>\n",
       "      <td>0.420000</td>\n",
       "      <td>0.000000</td>\n",
       "      <td>0.000000</td>\n",
       "      <td>0.000000</td>\n",
       "      <td>0.000000</td>\n",
       "    </tr>\n",
       "    <tr>\n",
       "      <th>25%</th>\n",
       "      <td>223.500000</td>\n",
       "      <td>0.000000</td>\n",
       "      <td>2.000000</td>\n",
       "      <td>22.000000</td>\n",
       "      <td>0.000000</td>\n",
       "      <td>0.000000</td>\n",
       "      <td>7.910400</td>\n",
       "      <td>2.187218</td>\n",
       "    </tr>\n",
       "    <tr>\n",
       "      <th>50%</th>\n",
       "      <td>446.000000</td>\n",
       "      <td>0.000000</td>\n",
       "      <td>3.000000</td>\n",
       "      <td>24.000000</td>\n",
       "      <td>0.000000</td>\n",
       "      <td>0.000000</td>\n",
       "      <td>14.454200</td>\n",
       "      <td>2.737881</td>\n",
       "    </tr>\n",
       "    <tr>\n",
       "      <th>75%</th>\n",
       "      <td>668.500000</td>\n",
       "      <td>1.000000</td>\n",
       "      <td>3.000000</td>\n",
       "      <td>35.000000</td>\n",
       "      <td>1.000000</td>\n",
       "      <td>0.000000</td>\n",
       "      <td>31.000000</td>\n",
       "      <td>3.465736</td>\n",
       "    </tr>\n",
       "    <tr>\n",
       "      <th>max</th>\n",
       "      <td>891.000000</td>\n",
       "      <td>1.000000</td>\n",
       "      <td>3.000000</td>\n",
       "      <td>80.000000</td>\n",
       "      <td>8.000000</td>\n",
       "      <td>6.000000</td>\n",
       "      <td>512.329200</td>\n",
       "      <td>6.240917</td>\n",
       "    </tr>\n",
       "  </tbody>\n",
       "</table>\n",
       "</div>"
      ],
      "text/plain": [
       "       PassengerId    Survived      Pclass         Age       SibSp       Parch        Fare     LogFare\n",
       "count   891.000000  891.000000  891.000000  891.000000  891.000000  891.000000  891.000000  891.000000\n",
       "mean    446.000000    0.383838    2.308642   28.566970    0.523008    0.381594   32.204208    2.962246\n",
       "std     257.353842    0.486592    0.836071   13.199572    1.102743    0.806057   49.693429    0.969048\n",
       "min       1.000000    0.000000    1.000000    0.420000    0.000000    0.000000    0.000000    0.000000\n",
       "25%     223.500000    0.000000    2.000000   22.000000    0.000000    0.000000    7.910400    2.187218\n",
       "50%     446.000000    0.000000    3.000000   24.000000    0.000000    0.000000   14.454200    2.737881\n",
       "75%     668.500000    1.000000    3.000000   35.000000    1.000000    0.000000   31.000000    3.465736\n",
       "max     891.000000    1.000000    3.000000   80.000000    8.000000    6.000000  512.329200    6.240917"
      ]
     },
     "execution_count": 43,
     "metadata": {},
     "output_type": "execute_result"
    }
   ],
   "source": [
    "df.describe()"
   ]
  },
  {
   "cell_type": "code",
   "execution_count": 44,
   "id": "dca50bd4",
   "metadata": {},
   "outputs": [
    {
     "data": {
      "text/html": [
       "<div>\n",
       "<style scoped>\n",
       "    .dataframe tbody tr th:only-of-type {\n",
       "        vertical-align: middle;\n",
       "    }\n",
       "\n",
       "    .dataframe tbody tr th {\n",
       "        vertical-align: top;\n",
       "    }\n",
       "\n",
       "    .dataframe thead th {\n",
       "        text-align: right;\n",
       "    }\n",
       "</style>\n",
       "<table border=\"1\" class=\"dataframe\">\n",
       "  <thead>\n",
       "    <tr style=\"text-align: right;\">\n",
       "      <th></th>\n",
       "      <th>Name</th>\n",
       "      <th>Sex</th>\n",
       "      <th>Ticket</th>\n",
       "      <th>Cabin</th>\n",
       "      <th>Embarked</th>\n",
       "    </tr>\n",
       "  </thead>\n",
       "  <tbody>\n",
       "    <tr>\n",
       "      <th>count</th>\n",
       "      <td>891</td>\n",
       "      <td>891</td>\n",
       "      <td>891</td>\n",
       "      <td>891</td>\n",
       "      <td>891</td>\n",
       "    </tr>\n",
       "    <tr>\n",
       "      <th>unique</th>\n",
       "      <td>891</td>\n",
       "      <td>2</td>\n",
       "      <td>681</td>\n",
       "      <td>147</td>\n",
       "      <td>3</td>\n",
       "    </tr>\n",
       "    <tr>\n",
       "      <th>top</th>\n",
       "      <td>Braund, Mr. Owen Harris</td>\n",
       "      <td>male</td>\n",
       "      <td>347082</td>\n",
       "      <td>B96 B98</td>\n",
       "      <td>S</td>\n",
       "    </tr>\n",
       "    <tr>\n",
       "      <th>freq</th>\n",
       "      <td>1</td>\n",
       "      <td>577</td>\n",
       "      <td>7</td>\n",
       "      <td>691</td>\n",
       "      <td>646</td>\n",
       "    </tr>\n",
       "  </tbody>\n",
       "</table>\n",
       "</div>"
      ],
      "text/plain": [
       "                           Name   Sex  Ticket    Cabin Embarked\n",
       "count                       891   891     891      891      891\n",
       "unique                      891     2     681      147        3\n",
       "top     Braund, Mr. Owen Harris  male  347082  B96 B98        S\n",
       "freq                          1   577       7      691      646"
      ]
     },
     "execution_count": 44,
     "metadata": {},
     "output_type": "execute_result"
    }
   ],
   "source": [
    "df.describe(exclude=(np.number))"
   ]
  },
  {
   "cell_type": "code",
   "execution_count": 45,
   "id": "a9b84a4b",
   "metadata": {},
   "outputs": [
    {
     "data": {
      "text/plain": [
       "[1, 2, 3]"
      ]
     },
     "execution_count": 45,
     "metadata": {},
     "output_type": "execute_result"
    }
   ],
   "source": [
    "pc = sorted(df.Pclass.unique())\n",
    "pc"
   ]
  },
  {
   "cell_type": "code",
   "execution_count": 46,
   "id": "2d3561ab",
   "metadata": {},
   "outputs": [
    {
     "data": {
      "text/plain": [
       "Index(['PassengerId', 'Survived', 'Pclass', 'Name', 'Sex', 'Age', 'SibSp', 'Parch', 'Ticket', 'Fare', 'Cabin', 'Embarked', 'LogFare'], dtype='object')"
      ]
     },
     "execution_count": 46,
     "metadata": {},
     "output_type": "execute_result"
    }
   ],
   "source": [
    "df.columns"
   ]
  },
  {
   "cell_type": "code",
   "execution_count": 47,
   "id": "76f37169",
   "metadata": {},
   "outputs": [
    {
     "data": {
      "text/plain": [
       "Index(['PassengerId', 'Survived', 'Name', 'Age', 'SibSp', 'Parch', 'Ticket', 'Fare', 'Cabin', 'LogFare', 'Sex_female', 'Sex_male',\n",
       "       'Pclass_1', 'Pclass_2', 'Pclass_3', 'Embarked_C', 'Embarked_Q', 'Embarked_S'],\n",
       "      dtype='object')"
      ]
     },
     "execution_count": 47,
     "metadata": {},
     "output_type": "execute_result"
    }
   ],
   "source": [
    "df = pd.get_dummies(df, columns=[\"Sex\",\"Pclass\",\"Embarked\"])\n",
    "df.columns"
   ]
  },
  {
   "cell_type": "code",
   "execution_count": 48,
   "id": "b768255a",
   "metadata": {},
   "outputs": [
    {
     "data": {
      "text/html": [
       "<div>\n",
       "<style scoped>\n",
       "    .dataframe tbody tr th:only-of-type {\n",
       "        vertical-align: middle;\n",
       "    }\n",
       "\n",
       "    .dataframe tbody tr th {\n",
       "        vertical-align: top;\n",
       "    }\n",
       "\n",
       "    .dataframe thead th {\n",
       "        text-align: right;\n",
       "    }\n",
       "</style>\n",
       "<table border=\"1\" class=\"dataframe\">\n",
       "  <thead>\n",
       "    <tr style=\"text-align: right;\">\n",
       "      <th></th>\n",
       "      <th>Sex_male</th>\n",
       "      <th>Sex_female</th>\n",
       "      <th>Pclass_1</th>\n",
       "      <th>Pclass_2</th>\n",
       "      <th>Pclass_3</th>\n",
       "      <th>Embarked_C</th>\n",
       "      <th>Embarked_Q</th>\n",
       "      <th>Embarked_S</th>\n",
       "    </tr>\n",
       "  </thead>\n",
       "  <tbody>\n",
       "    <tr>\n",
       "      <th>0</th>\n",
       "      <td>1</td>\n",
       "      <td>0</td>\n",
       "      <td>0</td>\n",
       "      <td>0</td>\n",
       "      <td>1</td>\n",
       "      <td>0</td>\n",
       "      <td>0</td>\n",
       "      <td>1</td>\n",
       "    </tr>\n",
       "    <tr>\n",
       "      <th>1</th>\n",
       "      <td>0</td>\n",
       "      <td>1</td>\n",
       "      <td>1</td>\n",
       "      <td>0</td>\n",
       "      <td>0</td>\n",
       "      <td>1</td>\n",
       "      <td>0</td>\n",
       "      <td>0</td>\n",
       "    </tr>\n",
       "    <tr>\n",
       "      <th>2</th>\n",
       "      <td>0</td>\n",
       "      <td>1</td>\n",
       "      <td>0</td>\n",
       "      <td>0</td>\n",
       "      <td>1</td>\n",
       "      <td>0</td>\n",
       "      <td>0</td>\n",
       "      <td>1</td>\n",
       "    </tr>\n",
       "    <tr>\n",
       "      <th>3</th>\n",
       "      <td>0</td>\n",
       "      <td>1</td>\n",
       "      <td>1</td>\n",
       "      <td>0</td>\n",
       "      <td>0</td>\n",
       "      <td>0</td>\n",
       "      <td>0</td>\n",
       "      <td>1</td>\n",
       "    </tr>\n",
       "    <tr>\n",
       "      <th>4</th>\n",
       "      <td>1</td>\n",
       "      <td>0</td>\n",
       "      <td>0</td>\n",
       "      <td>0</td>\n",
       "      <td>1</td>\n",
       "      <td>0</td>\n",
       "      <td>0</td>\n",
       "      <td>1</td>\n",
       "    </tr>\n",
       "  </tbody>\n",
       "</table>\n",
       "</div>"
      ],
      "text/plain": [
       "   Sex_male  Sex_female  Pclass_1  Pclass_2  Pclass_3  Embarked_C  Embarked_Q  Embarked_S\n",
       "0         1           0         0         0         1           0           0           1\n",
       "1         0           1         1         0         0           1           0           0\n",
       "2         0           1         0         0         1           0           0           1\n",
       "3         0           1         1         0         0           0           0           1\n",
       "4         1           0         0         0         1           0           0           1"
      ]
     },
     "execution_count": 48,
     "metadata": {},
     "output_type": "execute_result"
    }
   ],
   "source": [
    "added_cols = ['Sex_male', 'Sex_female', 'Pclass_1', 'Pclass_2', 'Pclass_3', 'Embarked_C', 'Embarked_Q', 'Embarked_S']\n",
    "df[added_cols].head()"
   ]
  },
  {
   "cell_type": "code",
   "execution_count": 49,
   "id": "de2375f3",
   "metadata": {},
   "outputs": [],
   "source": [
    "from torch import tensor"
   ]
  },
  {
   "cell_type": "code",
   "execution_count": 50,
   "id": "41c477a7",
   "metadata": {},
   "outputs": [],
   "source": [
    "t_y = tensor(df.Survived)"
   ]
  },
  {
   "cell_type": "code",
   "execution_count": 52,
   "id": "e0c28903",
   "metadata": {},
   "outputs": [],
   "source": [
    "x_cols = ['Age','SibSp','Parch', 'LogFare'] + added_cols\n",
    "t_x = tensor(df[x_cols].values, dtype=torch.float)"
   ]
  },
  {
   "cell_type": "code",
   "execution_count": 53,
   "id": "3f57c59c",
   "metadata": {},
   "outputs": [
    {
     "data": {
      "text/plain": [
       "torch.Size([891, 12])"
      ]
     },
     "execution_count": 53,
     "metadata": {},
     "output_type": "execute_result"
    }
   ],
   "source": [
    "t_x.shape"
   ]
  },
  {
   "cell_type": "code",
   "execution_count": 54,
   "id": "6c0bb160",
   "metadata": {},
   "outputs": [
    {
     "data": {
      "text/plain": [
       "torch.Size([891])"
      ]
     },
     "execution_count": 54,
     "metadata": {},
     "output_type": "execute_result"
    }
   ],
   "source": [
    "t_y.shape"
   ]
  },
  {
   "cell_type": "code",
   "execution_count": 55,
   "id": "4d078a75",
   "metadata": {},
   "outputs": [
    {
     "data": {
      "text/plain": [
       "<torch._C.Generator at 0x7f00d4117b70>"
      ]
     },
     "execution_count": 55,
     "metadata": {},
     "output_type": "execute_result"
    }
   ],
   "source": [
    "torch.manual_seed(0)"
   ]
  },
  {
   "cell_type": "code",
   "execution_count": 58,
   "id": "ec4bbe55",
   "metadata": {},
   "outputs": [],
   "source": [
    "n_coeff = t_x.shape[1]\n",
    "coeffs = torch.rand(n_coeff) - 0.5"
   ]
  },
  {
   "cell_type": "code",
   "execution_count": 59,
   "id": "8ba8554d",
   "metadata": {},
   "outputs": [
    {
     "data": {
      "text/plain": [
       "tensor([[ 9.7855,  0.1314,  0.0000, -0.4520,  0.2305, -0.0000, -0.0000,  0.0000,  0.1499,  0.0000,  0.0000,  0.4549],\n",
       "        [16.9023,  0.1314,  0.0000, -0.9169,  0.0000, -0.4432, -0.0317,  0.0000,  0.0000,  0.4184,  0.0000,  0.0000],\n",
       "        [11.5647,  0.0000,  0.0000, -0.4688,  0.0000, -0.4432, -0.0000,  0.0000,  0.1499,  0.0000,  0.0000,  0.4549],\n",
       "        [15.5679,  0.1314,  0.0000, -0.8548,  0.0000, -0.4432, -0.0317,  0.0000,  0.0000,  0.0000,  0.0000,  0.4549],\n",
       "        [15.5679,  0.0000,  0.0000, -0.4718,  0.2305, -0.0000, -0.0000,  0.0000,  0.1499,  0.0000,  0.0000,  0.4549],\n",
       "        [10.6751,  0.0000,  0.0000, -0.4813,  0.2305, -0.0000, -0.0000,  0.0000,  0.1499,  0.0000,  0.4913,  0.0000],\n",
       "        [24.0190,  0.0000,  0.0000, -0.8499,  0.2305, -0.0000, -0.0317,  0.0000,  0.0000,  0.0000,  0.0000,  0.4549],\n",
       "        ...,\n",
       "        [11.1199,  0.0000,  0.0000, -0.4467,  0.2305, -0.0000, -0.0000,  0.0000,  0.1499,  0.0000,  0.0000,  0.4549],\n",
       "        [17.3471,  0.0000,  1.7589, -0.7294,  0.0000, -0.4432, -0.0000,  0.0000,  0.1499,  0.0000,  0.4913,  0.0000],\n",
       "        [12.0095,  0.0000,  0.0000, -0.5653,  0.2305, -0.0000, -0.0000,  0.1668,  0.0000,  0.0000,  0.0000,  0.4549],\n",
       "        [ 8.4511,  0.0000,  0.0000, -0.7355,  0.0000, -0.4432, -0.0317,  0.0000,  0.0000,  0.0000,  0.0000,  0.4549],\n",
       "        [10.6751,  0.1314,  0.7035, -0.6847,  0.0000, -0.4432, -0.0000,  0.0000,  0.1499,  0.0000,  0.0000,  0.4549],\n",
       "        [11.5647,  0.0000,  0.0000, -0.7355,  0.2305, -0.0000, -0.0317,  0.0000,  0.0000,  0.4184,  0.0000,  0.0000],\n",
       "        [14.2335,  0.0000,  0.0000, -0.4646,  0.2305, -0.0000, -0.0000,  0.0000,  0.1499,  0.0000,  0.4913,  0.0000]])"
      ]
     },
     "execution_count": 59,
     "metadata": {},
     "output_type": "execute_result"
    }
   ],
   "source": [
    "t_x*coeffs"
   ]
  },
  {
   "cell_type": "code",
   "execution_count": 60,
   "id": "25a536f2",
   "metadata": {},
   "outputs": [
    {
     "data": {
      "text/plain": [
       "torch.Size([891, 12])"
      ]
     },
     "execution_count": 60,
     "metadata": {},
     "output_type": "execute_result"
    }
   ],
   "source": [
    "t_x.shape"
   ]
  },
  {
   "cell_type": "code",
   "execution_count": 61,
   "id": "dabe8f32",
   "metadata": {},
   "outputs": [
    {
     "data": {
      "text/plain": [
       "torch.Size([12])"
      ]
     },
     "execution_count": 61,
     "metadata": {},
     "output_type": "execute_result"
    }
   ],
   "source": [
    "coeffs.shape"
   ]
  },
  {
   "cell_type": "code",
   "execution_count": 65,
   "id": "9ca9b307",
   "metadata": {},
   "outputs": [],
   "source": [
    "vals, ixs = t_x.max(dim=0)"
   ]
  },
  {
   "cell_type": "code",
   "execution_count": 66,
   "id": "5651a948",
   "metadata": {},
   "outputs": [],
   "source": [
    "t_x = t_x / vals"
   ]
  },
  {
   "cell_type": "code",
   "execution_count": 67,
   "id": "00e9e12d",
   "metadata": {},
   "outputs": [
    {
     "data": {
      "text/plain": [
       "tensor([[ 0.1223,  0.0164,  0.0000, -0.0724,  0.2305, -0.0000, -0.0000,  0.0000,  0.1499,  0.0000,  0.0000,  0.4549],\n",
       "        [ 0.2113,  0.0164,  0.0000, -0.1469,  0.0000, -0.4432, -0.0317,  0.0000,  0.0000,  0.4184,  0.0000,  0.0000],\n",
       "        [ 0.1446,  0.0000,  0.0000, -0.0751,  0.0000, -0.4432, -0.0000,  0.0000,  0.1499,  0.0000,  0.0000,  0.4549],\n",
       "        [ 0.1946,  0.0164,  0.0000, -0.1370,  0.0000, -0.4432, -0.0317,  0.0000,  0.0000,  0.0000,  0.0000,  0.4549],\n",
       "        [ 0.1946,  0.0000,  0.0000, -0.0756,  0.2305, -0.0000, -0.0000,  0.0000,  0.1499,  0.0000,  0.0000,  0.4549],\n",
       "        [ 0.1334,  0.0000,  0.0000, -0.0771,  0.2305, -0.0000, -0.0000,  0.0000,  0.1499,  0.0000,  0.4913,  0.0000],\n",
       "        [ 0.3002,  0.0000,  0.0000, -0.1362,  0.2305, -0.0000, -0.0317,  0.0000,  0.0000,  0.0000,  0.0000,  0.4549],\n",
       "        ...,\n",
       "        [ 0.1390,  0.0000,  0.0000, -0.0716,  0.2305, -0.0000, -0.0000,  0.0000,  0.1499,  0.0000,  0.0000,  0.4549],\n",
       "        [ 0.2168,  0.0000,  0.2931, -0.1169,  0.0000, -0.4432, -0.0000,  0.0000,  0.1499,  0.0000,  0.4913,  0.0000],\n",
       "        [ 0.1501,  0.0000,  0.0000, -0.0906,  0.2305, -0.0000, -0.0000,  0.1668,  0.0000,  0.0000,  0.0000,  0.4549],\n",
       "        [ 0.1056,  0.0000,  0.0000, -0.1179,  0.0000, -0.4432, -0.0317,  0.0000,  0.0000,  0.0000,  0.0000,  0.4549],\n",
       "        [ 0.1334,  0.0164,  0.1173, -0.1097,  0.0000, -0.4432, -0.0000,  0.0000,  0.1499,  0.0000,  0.0000,  0.4549],\n",
       "        [ 0.1446,  0.0000,  0.0000, -0.1179,  0.2305, -0.0000, -0.0317,  0.0000,  0.0000,  0.4184,  0.0000,  0.0000],\n",
       "        [ 0.1779,  0.0000,  0.0000, -0.0744,  0.2305, -0.0000, -0.0000,  0.0000,  0.1499,  0.0000,  0.4913,  0.0000]])"
      ]
     },
     "execution_count": 67,
     "metadata": {},
     "output_type": "execute_result"
    }
   ],
   "source": [
    "t_x * coeffs"
   ]
  },
  {
   "cell_type": "code",
   "execution_count": 68,
   "id": "67932b68",
   "metadata": {},
   "outputs": [
    {
     "data": {
      "text/plain": [
       "torch.Size([891, 12])"
      ]
     },
     "execution_count": 68,
     "metadata": {},
     "output_type": "execute_result"
    }
   ],
   "source": [
    "(t_x * coeffs).shape"
   ]
  },
  {
   "cell_type": "code",
   "execution_count": 71,
   "id": "38188bb8",
   "metadata": {},
   "outputs": [
    {
     "data": {
      "text/plain": [
       "tensor([[0., 0.],\n",
       "        [2., 0.]])"
      ]
     },
     "execution_count": 71,
     "metadata": {},
     "output_type": "execute_result"
    }
   ],
   "source": [
    "z = torch.zeros(2,2)\n",
    "z[1][0]=2\n",
    "z"
   ]
  },
  {
   "cell_type": "code",
   "execution_count": 76,
   "id": "85aecf0b",
   "metadata": {},
   "outputs": [
    {
     "data": {
      "text/plain": [
       "tensor([[1., 0., 0.],\n",
       "        [0., 2., 0.],\n",
       "        [0., 0., 3.]])"
      ]
     },
     "execution_count": 76,
     "metadata": {},
     "output_type": "execute_result"
    }
   ],
   "source": [
    "a = torch.FloatTensor(np.diag(np.arange(1,4)))\n",
    "b = torch.FloatTensor(np.diag(np.arange(1,4)))\n",
    "a"
   ]
  },
  {
   "cell_type": "code",
   "execution_count": 80,
   "id": "8ef84512",
   "metadata": {},
   "outputs": [
    {
     "data": {
      "text/plain": [
       "tensor([1., 2., 3.])"
      ]
     },
     "execution_count": 80,
     "metadata": {},
     "output_type": "execute_result"
    }
   ],
   "source": [
    "c=torch.FloatTensor(np.arange(1,4))\n",
    "c"
   ]
  },
  {
   "cell_type": "code",
   "execution_count": 81,
   "id": "5997f6a5",
   "metadata": {},
   "outputs": [
    {
     "data": {
      "text/plain": [
       "torch.Size([3])"
      ]
     },
     "execution_count": 81,
     "metadata": {},
     "output_type": "execute_result"
    }
   ],
   "source": [
    "c.shape"
   ]
  },
  {
   "cell_type": "code",
   "execution_count": 79,
   "id": "b7017572",
   "metadata": {},
   "outputs": [
    {
     "data": {
      "text/plain": [
       "tensor([[1., 0., 0.],\n",
       "        [0., 4., 0.],\n",
       "        [0., 0., 9.]])"
      ]
     },
     "execution_count": 79,
     "metadata": {},
     "output_type": "execute_result"
    }
   ],
   "source": [
    "a*c"
   ]
  },
  {
   "cell_type": "code",
   "execution_count": 93,
   "id": "d49b0715",
   "metadata": {},
   "outputs": [
    {
     "data": {
      "text/plain": [
       "tensor([[-1.7643, -0.6106, -0.6245],\n",
       "        [-0.9806, -0.9336, -0.6725],\n",
       "        [ 0.8126,  0.3725, -0.5488],\n",
       "        [-0.3822,  1.8868, -0.5876],\n",
       "        [-0.2883, -0.1951,  0.5681]])"
      ]
     },
     "execution_count": 93,
     "metadata": {},
     "output_type": "execute_result"
    }
   ],
   "source": [
    "a = torch.randn(5,3)\n",
    "a"
   ]
  },
  {
   "cell_type": "code",
   "execution_count": 99,
   "id": "104f526d",
   "metadata": {},
   "outputs": [
    {
     "data": {
      "text/plain": [
       "tensor([[1., 0., 0.],\n",
       "        [0., 2., 0.],\n",
       "        [0., 0., 1.]])"
      ]
     },
     "execution_count": 99,
     "metadata": {},
     "output_type": "execute_result"
    }
   ],
   "source": [
    "b = torch.FloatTensor(np.diag([1,2,1]))\n",
    "b"
   ]
  },
  {
   "cell_type": "code",
   "execution_count": 101,
   "id": "852a9536",
   "metadata": {},
   "outputs": [
    {
     "data": {
      "text/plain": [
       "tensor([[-1.7643, -1.2212, -0.6245],\n",
       "        [-0.9806, -1.8672, -0.6725],\n",
       "        [ 0.8126,  0.7449, -0.5488],\n",
       "        [-0.3822,  3.7736, -0.5876],\n",
       "        [-0.2883, -0.3903,  0.5681]])"
      ]
     },
     "execution_count": 101,
     "metadata": {},
     "output_type": "execute_result"
    }
   ],
   "source": [
    "a @ b"
   ]
  },
  {
   "cell_type": "code",
   "execution_count": 109,
   "id": "08bbe3fb",
   "metadata": {},
   "outputs": [
    {
     "data": {
      "text/plain": [
       "tensor([[[1., 1., 1., 1.],\n",
       "         [1., 1., 1., 1.],\n",
       "         [1., 1., 1., 1.]],\n",
       "\n",
       "        [[1., 1., 1., 1.],\n",
       "         [1., 1., 1., 1.],\n",
       "         [1., 1., 1., 1.]]])"
      ]
     },
     "execution_count": 109,
     "metadata": {},
     "output_type": "execute_result"
    }
   ],
   "source": [
    "z = torch.zeros(2,3,4)\n",
    "o = torch.ones(1)\n",
    "z + o"
   ]
  },
  {
   "cell_type": "markdown",
   "id": "40b45ff4",
   "metadata": {},
   "source": [
    "## Matmul"
   ]
  },
  {
   "cell_type": "code",
   "execution_count": 131,
   "id": "b02b0c35",
   "metadata": {},
   "outputs": [
    {
     "data": {
      "text/plain": [
       "tensor([[ 1.,  2.,  3.],\n",
       "        [ 4.,  5.,  6.],\n",
       "        [ 7.,  8.,  9.],\n",
       "        [10., 11., 12.],\n",
       "        [13., 14., 15.],\n",
       "        [16., 17., 18.],\n",
       "        [19., 20., 21.],\n",
       "        [22., 23., 24.],\n",
       "        [25., 26., 27.]])"
      ]
     },
     "execution_count": 131,
     "metadata": {},
     "output_type": "execute_result"
    }
   ],
   "source": [
    "x = torch.FloatTensor(np.arange(1.,3**3+1).reshape(-1,3)) \n",
    "# -1 means \"figure this one out\"\n",
    "x"
   ]
  },
  {
   "cell_type": "code",
   "execution_count": 132,
   "id": "615c68a7",
   "metadata": {},
   "outputs": [
    {
     "data": {
      "text/plain": [
       "tensor([117., 126., 135.])"
      ]
     },
     "execution_count": 132,
     "metadata": {},
     "output_type": "execute_result"
    }
   ],
   "source": [
    "x.sum(axis=0)"
   ]
  },
  {
   "cell_type": "code",
   "execution_count": 133,
   "id": "fa2f69e1",
   "metadata": {},
   "outputs": [
    {
     "data": {
      "text/plain": [
       "tensor([ 6., 15., 24., 33., 42., 51., 60., 69., 78.])"
      ]
     },
     "execution_count": 133,
     "metadata": {},
     "output_type": "execute_result"
    }
   ],
   "source": [
    "x.sum(axis=1)"
   ]
  },
  {
   "cell_type": "code",
   "execution_count": 136,
   "id": "ce649adf",
   "metadata": {},
   "outputs": [
    {
     "data": {
      "text/plain": [
       "tensor([[[ 1.,  2.,  3.],\n",
       "         [ 4.,  5.,  6.],\n",
       "         [ 7.,  8.,  9.]],\n",
       "\n",
       "        [[10., 11., 12.],\n",
       "         [13., 14., 15.],\n",
       "         [16., 17., 18.]],\n",
       "\n",
       "        [[19., 20., 21.],\n",
       "         [22., 23., 24.],\n",
       "         [25., 26., 27.]]])"
      ]
     },
     "execution_count": 136,
     "metadata": {},
     "output_type": "execute_result"
    }
   ],
   "source": [
    "x = x.reshape(-1,3,3)\n",
    "x"
   ]
  },
  {
   "cell_type": "code",
   "execution_count": 137,
   "id": "67719649",
   "metadata": {},
   "outputs": [
    {
     "data": {
      "text/plain": [
       "tensor([[30., 33., 36.],\n",
       "        [39., 42., 45.],\n",
       "        [48., 51., 54.]])"
      ]
     },
     "execution_count": 137,
     "metadata": {},
     "output_type": "execute_result"
    }
   ],
   "source": [
    "x.sum(0)"
   ]
  },
  {
   "cell_type": "code",
   "execution_count": 138,
   "id": "c38334d5",
   "metadata": {},
   "outputs": [
    {
     "data": {
      "text/plain": [
       "tensor([[12., 15., 18.],\n",
       "        [39., 42., 45.],\n",
       "        [66., 69., 72.]])"
      ]
     },
     "execution_count": 138,
     "metadata": {},
     "output_type": "execute_result"
    }
   ],
   "source": [
    "x.sum(1)"
   ]
  },
  {
   "cell_type": "code",
   "execution_count": 139,
   "id": "e854644d",
   "metadata": {},
   "outputs": [
    {
     "data": {
      "text/plain": [
       "tensor([[ 6., 15., 24.],\n",
       "        [33., 42., 51.],\n",
       "        [60., 69., 78.]])"
      ]
     },
     "execution_count": 139,
     "metadata": {},
     "output_type": "execute_result"
    }
   ],
   "source": [
    "x.sum(2)"
   ]
  },
  {
   "cell_type": "code",
   "execution_count": 140,
   "id": "25bb054d",
   "metadata": {},
   "outputs": [
    {
     "data": {
      "text/plain": [
       "torch.Size([891, 12])"
      ]
     },
     "execution_count": 140,
     "metadata": {},
     "output_type": "execute_result"
    }
   ],
   "source": [
    "t_x.shape"
   ]
  },
  {
   "cell_type": "code",
   "execution_count": 141,
   "id": "96da2a85",
   "metadata": {},
   "outputs": [
    {
     "data": {
      "text/plain": [
       "torch.Size([12])"
      ]
     },
     "execution_count": 141,
     "metadata": {},
     "output_type": "execute_result"
    }
   ],
   "source": [
    "coeffs.shape"
   ]
  },
  {
   "cell_type": "code",
   "execution_count": 149,
   "id": "03d33a40",
   "metadata": {},
   "outputs": [
    {
     "data": {
      "text/plain": [
       "tensor([     0.9017,      0.0242,      0.2310,      0.0539,      0.9543,      0.9281,      0.8177,      0.8482,      0.3433,      0.1183,\n",
       "             0.1603,      0.1886,      0.8709,      1.2425,      0.1646,      0.3870,      0.8904,      0.8950,      0.2493,      0.1862,\n",
       "             0.9336,      0.9506,      0.2059,      0.6859,      0.2078,      0.5631,      0.8600,      0.7344,      0.2565,      0.8938,\n",
       "             0.7243,     -0.0781,      0.2570,      1.1353,      0.6375,      0.7673,      0.8600,      0.8765,      0.1935,      0.1334,\n",
       "             0.3198,      0.2389,      0.8573,      0.1636,      0.2287,      0.8932,      0.9254,      0.2570,      0.8580,      0.1774,\n",
       "             0.8714,      0.8775,      0.0829,      0.2430,      0.8950,      0.6636,      0.2113,      0.8850,      0.2246,      0.9631,\n",
       "             0.8488,      0.0403,      0.7680,      0.9087,      0.6354,      0.9117,      0.2558,      0.8650,      0.3639,      0.9349,\n",
       "             0.9463,      0.3171,      0.8210,      0.8659,      0.8742,      0.9003,      0.8938,      0.8932,      0.8573,      0.2391,\n",
       "             0.8786,      0.9159,      0.2569,      0.6764,      0.1891,      0.2974,      0.9942,      0.8932,      0.0829,      0.8932,\n",
       "             0.9210,      0.8717,      0.7841,      1.0082,      1.0909,      0.8932,      0.8893,      0.6607,      0.3170,      0.9445,\n",
       "             0.2422,      0.8938,      0.6794,      0.9410,      0.9988,      0.9160,      0.2043,      0.8942,      0.9716,      0.2372,\n",
       "             0.7787,      0.1282,      0.8821,      0.2075,      0.1257,      0.8770,      1.1893,      0.9237,      0.6199,      0.2364,\n",
       "             0.8538,      0.8932,      0.8949,      0.2685,      0.8629,      0.7960,      0.9308,      0.8968,      0.2255,      1.0143,\n",
       "             0.9073,      0.8750,      0.3453,      0.2430,      0.9006,      0.8483,      0.0893,      0.7388,      0.8445,      0.6001,\n",
       "             0.2801,      0.2095,      0.2145,      0.9071,      0.8656,      0.9082,      0.9108,      0.2393,      1.0592,      0.9951,\n",
       "             1.0463,     -0.0260,      1.0683,      1.0837,      0.8961,      0.8175,      0.2126,      0.9265,      0.8909,      1.0714,\n",
       "             1.0412,      0.3041,      0.9054,      0.8520,      0.8380,      0.8973,      0.0338,      0.5473,      0.6741,      0.8520,\n",
       "             0.8713,      0.9015,      0.1565,      0.8770,      0.8099,      0.9356,      0.9643,      0.1050,      0.9284,      1.0355,\n",
       "             0.3976,      0.8539,      0.9490,      0.8226,      0.1934,      0.6521,      0.2517,      0.7900,      1.0730,      0.9605,\n",
       "             0.2658,      0.8672,      0.2088,      0.8308,      0.0728,      0.0945,      0.9308,      1.0506,      0.2570,      0.2213,\n",
       "             0.9103,      1.0714,      0.9552,      0.9795,      0.8598,      0.1476,      0.9327,      0.8410,      0.2125,      0.7206,\n",
       "             0.8972,      0.2669,      0.8852,      0.9284,      0.9472,     -0.0304,      0.2366,      0.9877,     -0.0279,      0.9351,\n",
       "             0.8487,      0.9117,      1.0433,      0.8938,      0.7265,      0.8774,      0.8740,      0.8769,      0.8617,      0.2905,\n",
       "             0.0386,      0.9220,      1.0884,      0.2530,      0.9018,      0.2214,      1.0001,      0.2267,      0.8740,      0.9469,\n",
       "             0.1810,      0.2517,      0.9296,      0.8858,      0.8933,      0.8128,      0.2260,      0.3350,      0.7978,      1.0557,\n",
       "             0.8963,      0.3142,      0.8845,      0.9211,      0.4020,      0.3079,     -0.0736,     -0.0068,     -0.0762,      0.4019,\n",
       "             0.9308,      0.9156,      0.8671,      0.8760,      0.2570,      0.9685,      0.9214,      0.9162,      0.1880,      0.0057,\n",
       "             0.6681,      0.9743,      0.3613,      0.7640,      0.2570,      0.1966,      0.3373,      0.9856,      0.9182,      0.3263,\n",
       "             1.1587,      0.9162,      0.8436,      0.8654,      0.6740,      0.9045,      0.9214,      0.8826,      0.9951,      0.2459,\n",
       "            -0.0259,     -0.0897,      0.9256,      0.2165,      0.8938,      0.6354,      0.8572,     -0.0479,      0.6687,      0.0907,\n",
       "             0.2570,      0.9286,      0.9410,      0.2594,      0.8932,      0.6199,     -0.0851,     -0.1069,      0.8884,     -0.0291,\n",
       "            -0.0753,      0.0023,      0.2849,      0.9160,      1.0529,      0.2313,      0.2152,      1.0595,      0.0941,      0.0724,\n",
       "             0.8852,      0.9104,      0.2927,      0.2591,      1.0714,     -0.0252,      1.1066,      0.2880,      0.3037,     -0.0489,\n",
       "             0.2549,      0.7905,      0.7506,      0.8561,     -0.0385,      0.8938,      0.6867,      0.0029,      1.0099,      0.7804,\n",
       "             0.8252,      0.0885,      0.9173,      0.9006,      0.9617,      0.2213,      0.3102,      0.2140,      0.8300,      0.9910,\n",
       "             0.8834,      0.6641,      0.8850,      0.8901,      0.8600,      0.9103,      0.0227,      0.2991,      0.2565,      0.2565,\n",
       "             1.1932,      0.8781,      0.3400,      0.9584,      0.9254,      0.9297,      0.1447,      0.1862,      0.2570,     -0.0691,\n",
       "             0.6342,      0.8827,      0.8654,      0.5707,      0.1800,     -0.0585,      0.2115,      0.7006,      0.8547,      0.8664,\n",
       "            -0.0095,      0.1512,      0.9381,      0.0546,      0.8938,      0.8043,      0.9075,      0.2880,      0.9309,      0.1484,\n",
       "             0.8229,      0.8775,      0.9487,     -0.0749,      0.3137,      0.8830,      0.2591,      0.9948,      0.8962,      0.2444,\n",
       "             0.9770,      0.9043,      0.2130,      0.9105,      0.1949,      0.9515,      1.0444,      0.8415,      0.8776,      0.2905,\n",
       "             0.8938,      0.9345,      0.0614,      0.9856,      1.0048,      0.2194,      0.3220,      0.3052,      0.9284,      0.2238,\n",
       "             0.8573,      0.9142,      0.9216,      0.2985,      0.9056,      0.8963,      0.2374,      0.1709,      0.9308,      0.9377,\n",
       "             0.6955,      0.2140,      0.3152,      0.8580,      0.8094,      0.0268,      0.3061,      0.4182,      1.0690,      0.9407,\n",
       "             0.3902,      0.8658,      0.9162,      0.2435,      0.8929,      0.6415,      0.2057,      0.7289,      0.1411,      0.8244,\n",
       "             1.0707,      0.8808,      0.6687,      0.7516,      0.8932,      0.8851,      0.9012,     -0.0064,      0.3726,      0.9308,\n",
       "             0.8067,      0.9488,      0.7888,      1.0285,      0.8932,      0.9750,      0.9856,      0.8512,      0.9309,      0.1175,\n",
       "             0.8963,      0.9688,      0.3803,      0.1774,      0.2021,      0.6508,      0.9515,      0.9414,      0.8841,      0.1425,\n",
       "             0.9520,      0.9856,      1.0377,      0.4309,      0.6174,      0.2905,      0.0361,      0.8221,      0.9265,      0.8634,\n",
       "             0.8808,      0.8797,      0.8410,      0.8773,      0.8765,      0.8383,      0.1100,      0.8734,      0.0800,      0.8942,\n",
       "             0.8520,      0.2403,      0.2575,      0.2863,     -0.0846,      0.5724,      0.3660,      0.6733,      0.8826,      0.8408,\n",
       "             0.9586,      0.8932,      0.7403,      0.1193,      0.8953,      0.7929,      0.2836,      0.8945,      0.2819,      0.9382,\n",
       "            -0.0094,      0.8826,      0.8600,      0.1067,      0.8600,      1.0225,      0.3726,      0.6015,      0.9770,      0.9848,\n",
       "             0.1515,      0.8600,      0.8961,      0.2677,      0.2505,      0.2212,      0.7900,     -0.0503,      0.8747,      0.0484,\n",
       "             0.1505,      0.2753,      0.2865,      0.9334,      0.7511,      0.8964,      0.1874,      0.8565,      0.9885,      0.8471,\n",
       "             0.6670,      0.8892,      0.9305,      0.8489,      0.2094,      0.8845,      0.0996,      0.5642,      0.1211,      0.2782,\n",
       "             0.9308,      0.9827,      0.9161,      0.8932,      0.2194,      0.8909,      0.8660,      0.4511,      0.8600,      0.9384,\n",
       "             1.1131,      0.1715,      0.7402,      0.2570,      0.8487,      0.8469,      0.2769,      0.0745,      0.1810,      0.9381,\n",
       "             0.2746,      0.0734,      1.0393,      0.6898,      0.8543,      0.0466,      1.0183,      0.8753,      0.8821,      0.8932,\n",
       "             0.9580,      0.0989,      1.0242,      0.3743,      0.9612,      0.9999,      0.1908,      1.1078,      0.8600,      0.7667,\n",
       "             0.2890,      0.8938,      0.6577,      1.0044,      0.6980,      0.9556,      0.9271,      0.6854,      0.2692,      0.0293,\n",
       "             0.5688,      0.8972,      0.2517,      0.9308,      0.9543,      0.3017,      1.0056,      0.2251,      0.1655,      0.9129,\n",
       "             0.8714,      0.7670,      0.8884,      0.8772,      0.8547,      0.8725,      1.1166,     -0.0533,      0.9049,      0.9308,\n",
       "             0.9806,      1.0473,      0.6767,      0.7871,      0.2627,      0.2435,      0.9381,      0.9861,      0.5555,      0.8878,\n",
       "             0.8717,     -0.0691,      0.2238,      0.8297,      0.1175,      0.7511,      0.8660,      0.8051,      0.8951,      0.2158,\n",
       "             0.8938,      0.2280,      0.8751,      0.2567,      0.2278,      0.8705,      0.8938,      0.3548,      0.8895,      0.8943,\n",
       "             0.7962,      0.9489,      0.8024,      0.9621,      0.8878,      0.9150,      0.9006,      0.8942,      0.9988,     -0.0065,\n",
       "             0.3493,      0.7062,      1.1575,      0.9339,      0.9856,      0.8609,      0.8960,      0.1799,      0.6361,      0.6618,\n",
       "             0.2555,      0.6179,      0.8667,      0.9798,      1.1342,      0.9596,      0.9103,      0.8581,      0.8608,     -0.0620,\n",
       "             0.7031,      0.1144,      0.8297,      0.8655,      0.8734,      1.0495,      1.0044,      0.2571,      0.8028,      0.9948,\n",
       "            -0.1265,      0.7348,      0.1898,      0.9364,      0.9215,      0.9559,      0.3368,      0.7737,     -0.0703,      0.9117,\n",
       "            -0.0578,      0.6733,      0.8007,      0.9159,      1.0507,      0.8669,     -0.0317,      0.2447,      0.9090,      0.9443,\n",
       "             0.1494,      0.8747,      0.9506,      1.0396,      0.6832,      0.8687,      0.2884,      0.2571,      0.8945,      0.2419,\n",
       "            -0.0428,      0.7576,      0.9856,      0.8895,      0.8895,      0.8964,      0.4984,      0.5976,      0.8938,      0.8938,\n",
       "             0.6692,      0.7199,      0.0190,      0.8878,      0.9326,      0.9711,      0.8945,      0.2546,      0.6387,      0.9697,\n",
       "             0.1666,      0.8381,      0.9381,      0.8882,      0.4352,      0.8369,      0.9164,      0.8656,      0.9488,      0.0099,\n",
       "             0.8747,      0.9914,      0.8377,      0.1491,      0.8498,      0.1299,      0.6235,      0.2932,      0.9110,      0.9365,\n",
       "             0.8881,      1.0274,      0.4115,      0.8600,      0.5619,      0.8610,      0.9308,      0.1001,      0.9308,      0.0937,\n",
       "             0.1250,     -0.0485,      0.6970,      0.9927,      0.9028,      0.9019,      0.1882,      0.9237,      0.8692,      0.7224,\n",
       "             0.9308,      0.8280,      0.3976,      0.6320,      0.8993,      0.9784,      0.1393,      0.2560,      0.8933,      0.2928,\n",
       "             0.9506,      0.3124,      0.6839,      0.7825,      0.9142,      0.9332,      0.8705,      0.1871,      0.9784,      0.0428,\n",
       "             0.9049,      0.9415,      0.9629,      0.2587,      0.9293,      0.7871,      0.2143,      0.9383,      1.0055,      0.9420,\n",
       "             0.1879,      0.9076,      0.8649,      0.2811,      0.8436,      0.9341,      0.8297,      0.8137,      0.9308,      0.1738,\n",
       "             0.1310,      0.8294,      0.8600,      0.8884,      0.8589,      0.0832,      0.8742,      0.8932,      0.8742,      0.6331,\n",
       "             0.8714,      0.8573,     -0.0087,      0.9218,      0.8520,      0.9952,      1.0714,      0.9184,      0.9454,     -0.0612,\n",
       "             0.9213,      1.1722,      0.1545,      0.0005,      0.3264,      0.2401,      0.1297,      0.8234,      0.3312,      0.8600,\n",
       "             1.0030,      0.8987,      0.1337,      0.3976,      0.8950,      0.3214,      0.2159,      0.6907,      0.8881,      0.8470,\n",
       "             0.9049,      0.1796,      0.7756,      1.0176,      0.2036,      0.1362,      0.8647,      0.8660,      0.8938,      0.1613,\n",
       "             0.2629,      0.9438,      0.2000,      0.9240,      0.9028,      0.5911,      0.9117,     -0.0323,      0.3190,      0.6439,\n",
       "             0.9753])"
      ]
     },
     "execution_count": 149,
     "metadata": {},
     "output_type": "execute_result"
    }
   ],
   "source": [
    "(t_x * coeffs).sum(axis=1)"
   ]
  },
  {
   "cell_type": "code",
   "execution_count": 150,
   "id": "b85b0b5c",
   "metadata": {},
   "outputs": [
    {
     "data": {
      "text/plain": [
       "tensor([     0.9017,      0.0242,      0.2310,      0.0539,      0.9543,      0.9281,      0.8177,      0.8482,      0.3433,      0.1183,\n",
       "             0.1603,      0.1886,      0.8709,      1.2425,      0.1646,      0.3870,      0.8904,      0.8950,      0.2493,      0.1862,\n",
       "             0.9336,      0.9506,      0.2059,      0.6859,      0.2078,      0.5631,      0.8600,      0.7344,      0.2565,      0.8938,\n",
       "             0.7243,     -0.0781,      0.2570,      1.1353,      0.6375,      0.7673,      0.8600,      0.8765,      0.1935,      0.1334,\n",
       "             0.3198,      0.2389,      0.8573,      0.1636,      0.2287,      0.8932,      0.9254,      0.2570,      0.8580,      0.1774,\n",
       "             0.8714,      0.8775,      0.0829,      0.2430,      0.8950,      0.6636,      0.2113,      0.8850,      0.2246,      0.9631,\n",
       "             0.8488,      0.0403,      0.7680,      0.9087,      0.6354,      0.9117,      0.2558,      0.8650,      0.3639,      0.9349,\n",
       "             0.9463,      0.3171,      0.8210,      0.8659,      0.8742,      0.9003,      0.8938,      0.8932,      0.8573,      0.2391,\n",
       "             0.8786,      0.9159,      0.2569,      0.6764,      0.1891,      0.2974,      0.9942,      0.8932,      0.0829,      0.8932,\n",
       "             0.9210,      0.8717,      0.7841,      1.0082,      1.0909,      0.8932,      0.8893,      0.6607,      0.3170,      0.9445,\n",
       "             0.2422,      0.8938,      0.6794,      0.9410,      0.9988,      0.9160,      0.2043,      0.8942,      0.9716,      0.2372,\n",
       "             0.7787,      0.1282,      0.8821,      0.2075,      0.1257,      0.8770,      1.1893,      0.9237,      0.6199,      0.2364,\n",
       "             0.8538,      0.8932,      0.8949,      0.2685,      0.8629,      0.7960,      0.9308,      0.8968,      0.2255,      1.0143,\n",
       "             0.9073,      0.8750,      0.3453,      0.2430,      0.9006,      0.8483,      0.0893,      0.7388,      0.8445,      0.6001,\n",
       "             0.2801,      0.2095,      0.2145,      0.9071,      0.8656,      0.9082,      0.9108,      0.2393,      1.0592,      0.9951,\n",
       "             1.0463,     -0.0260,      1.0683,      1.0837,      0.8961,      0.8175,      0.2126,      0.9265,      0.8909,      1.0714,\n",
       "             1.0412,      0.3041,      0.9054,      0.8520,      0.8380,      0.8973,      0.0338,      0.5473,      0.6741,      0.8520,\n",
       "             0.8713,      0.9015,      0.1565,      0.8770,      0.8099,      0.9356,      0.9643,      0.1050,      0.9284,      1.0355,\n",
       "             0.3976,      0.8539,      0.9490,      0.8226,      0.1934,      0.6521,      0.2517,      0.7900,      1.0730,      0.9605,\n",
       "             0.2658,      0.8672,      0.2088,      0.8308,      0.0728,      0.0945,      0.9308,      1.0506,      0.2570,      0.2213,\n",
       "             0.9103,      1.0714,      0.9552,      0.9795,      0.8598,      0.1476,      0.9327,      0.8410,      0.2125,      0.7206,\n",
       "             0.8972,      0.2669,      0.8852,      0.9284,      0.9472,     -0.0304,      0.2366,      0.9877,     -0.0279,      0.9351,\n",
       "             0.8487,      0.9117,      1.0433,      0.8938,      0.7265,      0.8774,      0.8740,      0.8769,      0.8617,      0.2905,\n",
       "             0.0386,      0.9220,      1.0884,      0.2530,      0.9018,      0.2214,      1.0001,      0.2267,      0.8740,      0.9469,\n",
       "             0.1810,      0.2517,      0.9296,      0.8858,      0.8933,      0.8128,      0.2260,      0.3350,      0.7978,      1.0557,\n",
       "             0.8963,      0.3142,      0.8845,      0.9211,      0.4020,      0.3079,     -0.0736,     -0.0068,     -0.0762,      0.4019,\n",
       "             0.9308,      0.9156,      0.8671,      0.8760,      0.2570,      0.9685,      0.9214,      0.9162,      0.1880,      0.0057,\n",
       "             0.6681,      0.9743,      0.3613,      0.7640,      0.2570,      0.1966,      0.3373,      0.9856,      0.9182,      0.3263,\n",
       "             1.1587,      0.9162,      0.8436,      0.8654,      0.6740,      0.9045,      0.9214,      0.8826,      0.9951,      0.2459,\n",
       "            -0.0259,     -0.0897,      0.9256,      0.2165,      0.8938,      0.6354,      0.8572,     -0.0479,      0.6687,      0.0907,\n",
       "             0.2570,      0.9286,      0.9410,      0.2594,      0.8932,      0.6199,     -0.0851,     -0.1069,      0.8884,     -0.0291,\n",
       "            -0.0753,      0.0023,      0.2849,      0.9160,      1.0529,      0.2313,      0.2152,      1.0595,      0.0941,      0.0724,\n",
       "             0.8852,      0.9104,      0.2927,      0.2591,      1.0714,     -0.0252,      1.1066,      0.2880,      0.3037,     -0.0489,\n",
       "             0.2549,      0.7905,      0.7506,      0.8561,     -0.0385,      0.8938,      0.6867,      0.0029,      1.0099,      0.7804,\n",
       "             0.8252,      0.0885,      0.9173,      0.9006,      0.9617,      0.2213,      0.3102,      0.2140,      0.8300,      0.9910,\n",
       "             0.8834,      0.6641,      0.8850,      0.8901,      0.8600,      0.9103,      0.0227,      0.2991,      0.2565,      0.2565,\n",
       "             1.1932,      0.8781,      0.3400,      0.9584,      0.9254,      0.9297,      0.1447,      0.1862,      0.2570,     -0.0691,\n",
       "             0.6342,      0.8827,      0.8654,      0.5707,      0.1800,     -0.0585,      0.2115,      0.7006,      0.8547,      0.8664,\n",
       "            -0.0095,      0.1512,      0.9381,      0.0546,      0.8938,      0.8043,      0.9075,      0.2880,      0.9309,      0.1484,\n",
       "             0.8229,      0.8775,      0.9487,     -0.0749,      0.3137,      0.8830,      0.2591,      0.9948,      0.8962,      0.2444,\n",
       "             0.9770,      0.9043,      0.2130,      0.9105,      0.1949,      0.9515,      1.0444,      0.8415,      0.8776,      0.2905,\n",
       "             0.8938,      0.9345,      0.0614,      0.9856,      1.0048,      0.2194,      0.3220,      0.3052,      0.9284,      0.2238,\n",
       "             0.8573,      0.9142,      0.9216,      0.2985,      0.9056,      0.8963,      0.2374,      0.1709,      0.9308,      0.9377,\n",
       "             0.6955,      0.2140,      0.3152,      0.8580,      0.8094,      0.0268,      0.3061,      0.4182,      1.0690,      0.9407,\n",
       "             0.3902,      0.8658,      0.9162,      0.2435,      0.8929,      0.6415,      0.2057,      0.7289,      0.1411,      0.8244,\n",
       "             1.0707,      0.8808,      0.6687,      0.7516,      0.8932,      0.8851,      0.9012,     -0.0064,      0.3726,      0.9308,\n",
       "             0.8067,      0.9488,      0.7888,      1.0285,      0.8932,      0.9750,      0.9856,      0.8512,      0.9309,      0.1175,\n",
       "             0.8963,      0.9688,      0.3803,      0.1774,      0.2021,      0.6508,      0.9515,      0.9414,      0.8841,      0.1425,\n",
       "             0.9520,      0.9856,      1.0377,      0.4309,      0.6174,      0.2905,      0.0361,      0.8221,      0.9265,      0.8634,\n",
       "             0.8808,      0.8797,      0.8410,      0.8773,      0.8765,      0.8383,      0.1100,      0.8734,      0.0800,      0.8942,\n",
       "             0.8520,      0.2403,      0.2575,      0.2863,     -0.0846,      0.5724,      0.3660,      0.6733,      0.8826,      0.8408,\n",
       "             0.9586,      0.8932,      0.7403,      0.1193,      0.8953,      0.7929,      0.2836,      0.8945,      0.2819,      0.9382,\n",
       "            -0.0094,      0.8826,      0.8600,      0.1067,      0.8600,      1.0225,      0.3726,      0.6015,      0.9770,      0.9848,\n",
       "             0.1515,      0.8600,      0.8961,      0.2677,      0.2505,      0.2212,      0.7900,     -0.0503,      0.8747,      0.0484,\n",
       "             0.1505,      0.2753,      0.2865,      0.9334,      0.7511,      0.8964,      0.1874,      0.8565,      0.9885,      0.8471,\n",
       "             0.6670,      0.8892,      0.9305,      0.8489,      0.2094,      0.8845,      0.0996,      0.5642,      0.1211,      0.2782,\n",
       "             0.9308,      0.9827,      0.9161,      0.8932,      0.2194,      0.8909,      0.8660,      0.4511,      0.8600,      0.9384,\n",
       "             1.1131,      0.1715,      0.7402,      0.2570,      0.8487,      0.8469,      0.2769,      0.0745,      0.1810,      0.9381,\n",
       "             0.2746,      0.0734,      1.0393,      0.6898,      0.8543,      0.0466,      1.0183,      0.8753,      0.8821,      0.8932,\n",
       "             0.9580,      0.0989,      1.0242,      0.3743,      0.9612,      0.9999,      0.1908,      1.1078,      0.8600,      0.7667,\n",
       "             0.2890,      0.8938,      0.6577,      1.0044,      0.6980,      0.9556,      0.9271,      0.6854,      0.2692,      0.0293,\n",
       "             0.5688,      0.8972,      0.2517,      0.9308,      0.9543,      0.3017,      1.0056,      0.2251,      0.1655,      0.9129,\n",
       "             0.8714,      0.7670,      0.8884,      0.8772,      0.8547,      0.8725,      1.1166,     -0.0533,      0.9049,      0.9308,\n",
       "             0.9806,      1.0473,      0.6767,      0.7871,      0.2627,      0.2435,      0.9381,      0.9861,      0.5555,      0.8878,\n",
       "             0.8717,     -0.0691,      0.2238,      0.8297,      0.1175,      0.7511,      0.8660,      0.8051,      0.8951,      0.2158,\n",
       "             0.8938,      0.2280,      0.8751,      0.2567,      0.2278,      0.8705,      0.8938,      0.3548,      0.8895,      0.8943,\n",
       "             0.7962,      0.9489,      0.8024,      0.9621,      0.8878,      0.9150,      0.9006,      0.8942,      0.9988,     -0.0065,\n",
       "             0.3493,      0.7062,      1.1575,      0.9339,      0.9856,      0.8609,      0.8960,      0.1799,      0.6361,      0.6618,\n",
       "             0.2555,      0.6179,      0.8667,      0.9798,      1.1342,      0.9596,      0.9103,      0.8581,      0.8608,     -0.0620,\n",
       "             0.7031,      0.1144,      0.8297,      0.8655,      0.8734,      1.0495,      1.0044,      0.2571,      0.8028,      0.9948,\n",
       "            -0.1265,      0.7348,      0.1898,      0.9364,      0.9215,      0.9559,      0.3368,      0.7737,     -0.0703,      0.9117,\n",
       "            -0.0578,      0.6733,      0.8007,      0.9159,      1.0507,      0.8669,     -0.0317,      0.2447,      0.9090,      0.9443,\n",
       "             0.1494,      0.8747,      0.9506,      1.0396,      0.6832,      0.8687,      0.2884,      0.2571,      0.8945,      0.2419,\n",
       "            -0.0428,      0.7576,      0.9856,      0.8895,      0.8895,      0.8964,      0.4984,      0.5976,      0.8938,      0.8938,\n",
       "             0.6692,      0.7199,      0.0190,      0.8878,      0.9326,      0.9711,      0.8945,      0.2546,      0.6387,      0.9697,\n",
       "             0.1666,      0.8381,      0.9381,      0.8882,      0.4352,      0.8369,      0.9164,      0.8656,      0.9488,      0.0099,\n",
       "             0.8747,      0.9914,      0.8377,      0.1491,      0.8498,      0.1299,      0.6235,      0.2932,      0.9110,      0.9365,\n",
       "             0.8881,      1.0274,      0.4115,      0.8600,      0.5619,      0.8610,      0.9308,      0.1001,      0.9308,      0.0937,\n",
       "             0.1250,     -0.0485,      0.6970,      0.9927,      0.9028,      0.9019,      0.1882,      0.9237,      0.8692,      0.7224,\n",
       "             0.9308,      0.8280,      0.3976,      0.6320,      0.8993,      0.9784,      0.1393,      0.2560,      0.8933,      0.2928,\n",
       "             0.9506,      0.3124,      0.6839,      0.7825,      0.9142,      0.9332,      0.8705,      0.1871,      0.9784,      0.0428,\n",
       "             0.9049,      0.9415,      0.9629,      0.2587,      0.9293,      0.7871,      0.2143,      0.9383,      1.0055,      0.9420,\n",
       "             0.1879,      0.9076,      0.8649,      0.2811,      0.8436,      0.9341,      0.8297,      0.8137,      0.9308,      0.1738,\n",
       "             0.1310,      0.8294,      0.8600,      0.8884,      0.8589,      0.0832,      0.8742,      0.8932,      0.8742,      0.6331,\n",
       "             0.8714,      0.8573,     -0.0087,      0.9218,      0.8520,      0.9952,      1.0714,      0.9184,      0.9454,     -0.0612,\n",
       "             0.9213,      1.1722,      0.1545,      0.0005,      0.3264,      0.2401,      0.1297,      0.8234,      0.3312,      0.8600,\n",
       "             1.0030,      0.8987,      0.1337,      0.3976,      0.8950,      0.3214,      0.2159,      0.6907,      0.8881,      0.8470,\n",
       "             0.9049,      0.1796,      0.7756,      1.0176,      0.2036,      0.1362,      0.8647,      0.8660,      0.8938,      0.1613,\n",
       "             0.2629,      0.9438,      0.2000,      0.9240,      0.9028,      0.5911,      0.9117,     -0.0323,      0.3190,      0.6439,\n",
       "             0.9753])"
      ]
     },
     "execution_count": 150,
     "metadata": {},
     "output_type": "execute_result"
    }
   ],
   "source": [
    "torch.matmul(t_x,coeffs)"
   ]
  },
  {
   "cell_type": "code",
   "execution_count": 152,
   "id": "2e1dc2a8",
   "metadata": {},
   "outputs": [],
   "source": [
    "assert torch.matmul(t_x,coeffs).shape == (t_x*coeffs).sum(1).shape"
   ]
  },
  {
   "cell_type": "code",
   "execution_count": 155,
   "id": "a70c1519",
   "metadata": {},
   "outputs": [],
   "source": [
    "preds = t_x@coeffs"
   ]
  },
  {
   "cell_type": "code",
   "execution_count": 157,
   "id": "b1a32ce4",
   "metadata": {},
   "outputs": [
    {
     "data": {
      "text/plain": [
       "tensor(0.7381)"
      ]
     },
     "execution_count": 157,
     "metadata": {},
     "output_type": "execute_result"
    }
   ],
   "source": [
    "loss = torch.abs(preds - t_y).mean()\n",
    "loss"
   ]
  },
  {
   "cell_type": "code",
   "execution_count": 162,
   "id": "f261c8e6",
   "metadata": {},
   "outputs": [],
   "source": [
    "# coeffs : [rows, features]\n",
    "# inds : [features]\n",
    "def get_preds(coeffs, inds):\n",
    "    return inds@coeffs\n",
    "def get_loss(coeffs, inds, deps):\n",
    "    return torch.abs(get_preds(coeffs, inds) - deps).mean()"
   ]
  },
  {
   "cell_type": "code",
   "execution_count": 159,
   "id": "20a0905c",
   "metadata": {},
   "outputs": [
    {
     "data": {
      "text/plain": [
       "tensor([ 0.4448,  0.1314,  0.3518, -0.2142,  0.2305, -0.4432, -0.0317,  0.1668,  0.1499,  0.4184,  0.4913,  0.4549], requires_grad=True)"
      ]
     },
     "execution_count": 159,
     "metadata": {},
     "output_type": "execute_result"
    }
   ],
   "source": [
    "coeffs.requires_grad_() # _ is inplace"
   ]
  },
  {
   "cell_type": "code",
   "execution_count": 163,
   "id": "21b08f51",
   "metadata": {},
   "outputs": [
    {
     "data": {
      "text/plain": [
       "tensor(0.7381, grad_fn=<MeanBackward0>)"
      ]
     },
     "execution_count": 163,
     "metadata": {},
     "output_type": "execute_result"
    }
   ],
   "source": [
    "loss = get_loss(coeffs, t_x, t_y)\n",
    "loss"
   ]
  },
  {
   "cell_type": "code",
   "execution_count": 184,
   "id": "0e290464",
   "metadata": {},
   "outputs": [
    {
     "data": {
      "text/plain": [
       "tensor([5.])"
      ]
     },
     "execution_count": 184,
     "metadata": {},
     "output_type": "execute_result"
    }
   ],
   "source": [
    "# how grad works\n",
    "x = torch.FloatTensor([1])\n",
    "x.requires_grad_()\n",
    "\n",
    "y = (x**2 + 3*x + 2)\n",
    "y.backward()\n",
    "x.grad\n",
    "\n",
    "# 2x+3 at x=1 = 5"
   ]
  },
  {
   "cell_type": "code",
   "execution_count": 186,
   "id": "eb184265",
   "metadata": {},
   "outputs": [
    {
     "data": {
      "text/plain": [
       "tensor([6.], grad_fn=<AddBackward0>)"
      ]
     },
     "execution_count": 186,
     "metadata": {},
     "output_type": "execute_result"
    }
   ],
   "source": [
    "y"
   ]
  },
  {
   "cell_type": "code",
   "execution_count": 195,
   "id": "a8a694f1",
   "metadata": {},
   "outputs": [
    {
     "name": "stdout",
     "output_type": "stream",
     "text": [
      "tensor(0.2483, grad_fn=<MeanBackward0>)\n",
      "tensor(0.2664, grad_fn=<MeanBackward0>)\n",
      "tensor(0.2538, grad_fn=<MeanBackward0>)\n",
      "tensor(0.2696, grad_fn=<MeanBackward0>)\n",
      "tensor(0.2481, grad_fn=<MeanBackward0>)\n",
      "tensor(0.2659, grad_fn=<MeanBackward0>)\n",
      "tensor(0.2417, grad_fn=<MeanBackward0>)\n",
      "tensor(0.2638, grad_fn=<MeanBackward0>)\n",
      "tensor(0.2503, grad_fn=<MeanBackward0>)\n",
      "tensor(0.2605, grad_fn=<MeanBackward0>)\n"
     ]
    }
   ],
   "source": [
    "def train(coeffs, inds, deps):\n",
    "    iter = 0\n",
    "    while iter < 100:\n",
    "        loss = get_loss(coeffs, inds, deps)\n",
    "        loss.backward()\n",
    "        with torch.no_grad(): \n",
    "            coeffs.sub_(0.1 * coeffs.grad)\n",
    "            coeffs.grad.zero_()\n",
    "            if iter % 10 == 0: \n",
    "                print(loss)\n",
    "        iter += 1   \n",
    "train(coeffs, t_x, t_y)"
   ]
  }
 ],
 "metadata": {
  "kernelspec": {
   "display_name": "Python 3 (ipykernel)",
   "language": "python",
   "name": "python3"
  },
  "language_info": {
   "codemirror_mode": {
    "name": "ipython",
    "version": 3
   },
   "file_extension": ".py",
   "mimetype": "text/x-python",
   "name": "python",
   "nbconvert_exporter": "python",
   "pygments_lexer": "ipython3",
   "version": "3.10.9"
  }
 },
 "nbformat": 4,
 "nbformat_minor": 5
}
